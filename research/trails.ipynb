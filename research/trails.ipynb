{
 "cells": [
  {
   "cell_type": "code",
   "execution_count": 1,
   "metadata": {},
   "outputs": [],
   "source": [
    "# Why to use configbox?"
   ]
  },
  {
   "cell_type": "code",
   "execution_count": 2,
   "metadata": {},
   "outputs": [],
   "source": [
    "d = {'key1' : \"Value1\"  , 'key2' : \"value2\"}"
   ]
  },
  {
   "cell_type": "code",
   "execution_count": 3,
   "metadata": {},
   "outputs": [
    {
     "ename": "AttributeError",
     "evalue": "'dict' object has no attribute 'key1'",
     "output_type": "error",
     "traceback": [
      "\u001b[1;31m---------------------------------------------------------------------------\u001b[0m",
      "\u001b[1;31mAttributeError\u001b[0m                            Traceback (most recent call last)",
      "Cell \u001b[1;32mIn[3], line 1\u001b[0m\n\u001b[1;32m----> 1\u001b[0m d\u001b[39m.\u001b[39;49mkey1\n",
      "\u001b[1;31mAttributeError\u001b[0m: 'dict' object has no attribute 'key1'"
     ]
    }
   ],
   "source": [
    "d.key1"
   ]
  },
  {
   "cell_type": "code",
   "execution_count": null,
   "metadata": {},
   "outputs": [
    {
     "data": {
      "text/plain": [
       "'Value1'"
      ]
     },
     "execution_count": 4,
     "metadata": {},
     "output_type": "execute_result"
    }
   ],
   "source": [
    "# we are not able to access the key directly, so we need to use the whole key\n",
    "d['key1']"
   ]
  },
  {
   "cell_type": "code",
   "execution_count": 8,
   "metadata": {},
   "outputs": [],
   "source": [
    "## Instead we can use the ConfigBox class to access the values directly.\n",
    "\n",
    "from box import ConfigBox\n"
   ]
  },
  {
   "cell_type": "code",
   "execution_count": 7,
   "metadata": {},
   "outputs": [
    {
     "name": "stdout",
     "output_type": "stream",
     "text": [
      "Collecting python-box[all]~=7.0\n",
      "  Downloading python_box-7.0.1-cp38-cp38-win_amd64.whl (1.0 MB)\n",
      "                                              0.0/1.0 MB ? eta -:--:--\n",
      "                                              0.0/1.0 MB ? eta -:--:--\n",
      "     -                                        0.0/1.0 MB 495.5 kB/s eta 0:00:02\n",
      "     ---------                                0.2/1.0 MB 1.8 MB/s eta 0:00:01\n",
      "     -----------------------                  0.6/1.0 MB 3.4 MB/s eta 0:00:01\n",
      "     -------------------------------------    1.0/1.0 MB 4.3 MB/s eta 0:00:01\n",
      "     ---------------------------------------- 1.0/1.0 MB 4.3 MB/s eta 0:00:00\n",
      "Collecting ruamel.yaml>=0.17 (from python-box[all]~=7.0)\n",
      "  Downloading ruamel.yaml-0.17.31-py3-none-any.whl (112 kB)\n",
      "                                              0.0/112.1 kB ? eta -:--:--\n",
      "     -------------------------------------- 112.1/112.1 kB 6.4 MB/s eta 0:00:00\n",
      "Collecting toml (from python-box[all]~=7.0)\n",
      "  Using cached toml-0.10.2-py2.py3-none-any.whl (16 kB)\n",
      "Collecting msgpack (from python-box[all]~=7.0)\n",
      "  Downloading msgpack-1.0.5-cp38-cp38-win_amd64.whl (62 kB)\n",
      "                                              0.0/62.5 kB ? eta -:--:--\n",
      "     ---------------------------------------- 62.5/62.5 kB ? eta 0:00:00\n",
      "Collecting ruamel.yaml.clib>=0.2.7 (from ruamel.yaml>=0.17->python-box[all]~=7.0)\n",
      "  Downloading ruamel.yaml.clib-0.2.7-cp38-cp38-win_amd64.whl (118 kB)\n",
      "                                              0.0/118.0 kB ? eta -:--:--\n",
      "     ---------------------------------------- 118.0/118.0 kB ? eta 0:00:00\n",
      "Installing collected packages: msgpack, toml, ruamel.yaml.clib, python-box, ruamel.yaml\n",
      "Successfully installed msgpack-1.0.5 python-box-7.0.1 ruamel.yaml-0.17.31 ruamel.yaml.clib-0.2.7 toml-0.10.2\n",
      "Note: you may need to restart the kernel to use updated packages.\n"
     ]
    }
   ],
   "source": [
    "pip install python-box[all]~=7.0 --upgrade"
   ]
  },
  {
   "cell_type": "code",
   "execution_count": 9,
   "metadata": {},
   "outputs": [],
   "source": [
    "d2 = ConfigBox({'key1' : \"Value1\"  , 'key2' : \"value2\"})"
   ]
  },
  {
   "cell_type": "code",
   "execution_count": 10,
   "metadata": {},
   "outputs": [
    {
     "data": {
      "text/plain": [
       "'Value1'"
      ]
     },
     "execution_count": 10,
     "metadata": {},
     "output_type": "execute_result"
    }
   ],
   "source": [
    "d2.key1"
   ]
  },
  {
   "cell_type": "code",
   "execution_count": 11,
   "metadata": {},
   "outputs": [],
   "source": [
    "# We are unsing ensure_annotations, so we can handle the misinput of wrong data types and can print the error message.\n"
   ]
  },
  {
   "cell_type": "code",
   "execution_count": null,
   "metadata": {},
   "outputs": [],
   "source": []
  }
 ],
 "metadata": {
  "kernelspec": {
   "display_name": "TSEnv",
   "language": "python",
   "name": "python3"
  },
  "language_info": {
   "codemirror_mode": {
    "name": "ipython",
    "version": 3
   },
   "file_extension": ".py",
   "mimetype": "text/x-python",
   "name": "python",
   "nbconvert_exporter": "python",
   "pygments_lexer": "ipython3",
   "version": "3.8.16"
  },
  "orig_nbformat": 4
 },
 "nbformat": 4,
 "nbformat_minor": 2
}
